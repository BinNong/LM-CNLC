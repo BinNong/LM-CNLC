{
 "cells": [
  {
   "cell_type": "heading",
   "metadata": {},
   "level": 2,
   "source": [
    "构建句子级数据"
   ]
  },
  {
   "cell_type": "code",
   "execution_count": 3,
   "metadata": {
    "collapsed": true
   },
   "outputs": [],
   "source": [
    "import json\n",
    "import jieba\n",
    "\n",
    "with open(\"data/raw.json\", \"r\", encoding=\"utf-8\") as f, open(\"data/content.txt\", \"w\", encoding=\"utf-8\") as foo:\n",
    "    for line in f:\n",
    "        line = line.strip()\n",
    "        if len(line) == 0:\n",
    "            continue\n",
    "        line = json.loads(line)\n",
    "        content = line[\"content\"].strip()\n",
    "        foo.write(\"%s\\n\" % content)"
   ]
  },
  {
   "cell_type": "code",
   "execution_count": 12,
   "metadata": {},
   "outputs": [],
   "source": [
    "import re\n",
    "\n",
    "SENTENCE_ENDS = \"。？！.?!\"\n",
    "\n",
    "with open(\"data/content.txt\", \"r\", encoding=\"utf-8\") as f, open(\"data/sentences.txt\", \"w\", encoding=\"utf-8\") as foo:\n",
    "    for line in f:\n",
    "        line = line.strip()\n",
    "        if len(line) == 0:\n",
    "            continue\n",
    "        for ee in SENTENCE_ENDS:\n",
    "            line = line.replace(ee, ee+\" \")\n",
    "        segs = line.split(\" \")\n",
    "        for seg in segs:\n",
    "            seg = seg.strip()\n",
    "            if len(seg) < 2:\n",
    "                continue\n",
    "            seg = re.sub('[\\s+]', '', seg)\n",
    "            foo.write(\"%s\\n\" % seg)"
   ]
  },
  {
   "cell_type": "heading",
   "metadata": {},
   "level": 2,
   "source": [
    "构建词典"
   ]
  },
  {
   "cell_type": "code",
   "execution_count": 20,
   "metadata": {},
   "outputs": [
    {
     "name": "stdout",
     "output_type": "stream",
     "text": [
      "There are 611250 different words totally.\n"
     ]
    }
   ],
   "source": [
    "import jieba\n",
    "from collections import Counter\n",
    "\n",
    "vocabulary = Counter()\n",
    "\n",
    "with open(\"data/sentences.txt\", \"r\", encoding=\"utf-8\") as f:\n",
    "    for line in f:\n",
    "        segs = jieba.cut(line.strip())\n",
    "        vocabulary.update(segs)\n",
    "\n",
    "print(\"There are %d different words totally.\" % len(vocabulary))\n",
    "\n",
    "with open(\"data/voc.txt\", \"w\", encoding=\"utf-8\") as f:\n",
    "    items = sorted(vocabulary.items(), key=lambda x: x[1], reverse=True)\n",
    "    for key, value in items:\n",
    "        f.write(\"%s\\t%s\\n\" % (key, value))"
   ]
  },
  {
   "cell_type": "code",
   "execution_count": 21,
   "metadata": {},
   "outputs": [],
   "source": [
    "with open(\"data/voc.txt\", \"w\", encoding=\"utf-8\") as f:\n",
    "    items = sorted(vocabulary.items(), key=lambda x: x[1], reverse=True)\n",
    "    for key, value in items:\n",
    "        if value < 10:\n",
    "            break\n",
    "        f.write(\"%s\\t%s\\n\" % (key, value))"
   ]
  },
  {
   "cell_type": "heading",
   "metadata": {},
   "level": 2,
   "source": [
    "反向"
   ]
  },
  {
   "cell_type": "code",
   "execution_count": null,
   "metadata": {},
   "outputs": [],
   "source": []
  },
  {
   "cell_type": "code",
   "execution_count": null,
   "metadata": {},
   "outputs": [],
   "source": []
  },
  {
   "cell_type": "code",
   "execution_count": 23,
   "metadata": {},
   "outputs": [],
   "source": [
    "with open(\"data/normal/sentences.txt\", \"r\", encoding=\"utf-8\") as fn, open(\"data/reverse/sentences.txt\", \"w\", encoding=\"utf-8\") as fr:\n",
    "    for line in fn:\n",
    "        line = line.strip()\n",
    "        fr.write(\"%s\\n\" % line[::-1])\n",
    "        "
   ]
  }
 ],
 "metadata": {
  "kernelspec": {
   "display_name": "Python 2",
   "language": "python",
   "name": "python2"
  },
  "language_info": {
   "codemirror_mode": {
    "name": "ipython",
    "version": 2
   },
   "file_extension": ".py",
   "mimetype": "text/x-python",
   "name": "python",
   "nbconvert_exporter": "python",
   "pygments_lexer": "ipython2",
   "version": "2.7.6"
  }
 },
 "nbformat": 4,
 "nbformat_minor": 0
}
